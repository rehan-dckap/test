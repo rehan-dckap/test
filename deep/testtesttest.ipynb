{
 "cells": [
  {
   "cell_type": "code",
   "execution_count": 1,
   "metadata": {},
   "outputs": [],
   "source": [
    "import logging"
   ]
  },
  {
   "cell_type": "code",
   "execution_count": 2,
   "metadata": {},
   "outputs": [],
   "source": [
    "import time"
   ]
  },
  {
   "cell_type": "code",
   "execution_count": 3,
   "metadata": {},
   "outputs": [],
   "source": [
    "LOGGER = logging.getLogger('__name__')"
   ]
  },
  {
   "cell_type": "code",
   "execution_count": 6,
   "metadata": {},
   "outputs": [],
   "source": [
    "def request_retry_sync(retries=3, colloff=1):\n",
    "    retry_on_exceptions = (\n",
    "        requests.exceptions.ConnectionError,\n",
    "        requests.exceptions.Timeout,\n",
    "        requests.exceptions.HTTPError\n",
    "    )"
   ]
  },
  {
   "cell_type": "code",
   "execution_count": 10,
   "metadata": {},
   "outputs": [
    {
     "ename": "SyntaxError",
     "evalue": "invalid syntax (<ipython-input-10-43bb9e03cdc9>, line 23)",
     "output_type": "error",
     "traceback": [
      "\u001b[0;36m  File \u001b[0;32m\"<ipython-input-10-43bb9e03cdc9>\"\u001b[0;36m, line \u001b[0;32m23\u001b[0m\n\u001b[0;31m    else:\u001b[0m\n\u001b[0m       ^\u001b[0m\n\u001b[0;31mSyntaxError\u001b[0m\u001b[0;31m:\u001b[0m invalid syntax\n"
     ]
    }
   ],
   "source": [
    "def wrap(func):\n",
    "    @wraps(func)\n",
    "    def inner (*args, **kwargs):\n",
    "        for retry_count in range(retries+1):\n",
    "            response = func(*args, **kwargs)\n",
    "            try:\n",
    "                response.raise_for_status()\n",
    "            except Exception as err:\n",
    "                if not any([err == exc for exc in retry_on_exceptions]):\n",
    "                    raise\n",
    "                if retry_count == retries:\n",
    "                    # retries exhausted, raise the exception\n",
    "                    raise\n",
    "                time.sleep(colloff)\n",
    "                colloff *= 2\n",
    "                LOGGER.warning(\n",
    "                    '{} during {} execution {} of \"{}\" retries attempted'.format(\n",
    "                                            err.__class__.__name__,\n",
    "                                            func.__name__,\n",
    "                                            retry_count + 1,\n",
    "                             )\n",
    "                )\n",
    "                else:\n",
    "                    return response\n",
    "    return inner\n",
    "return wrap"
   ]
  }
 ],
 "metadata": {
  "kernelspec": {
   "display_name": "Python 3",
   "language": "python",
   "name": "python3"
  },
  "language_info": {
   "codemirror_mode": {
    "name": "ipython",
    "version": 3
   },
   "file_extension": ".py",
   "mimetype": "text/x-python",
   "name": "python",
   "nbconvert_exporter": "python",
   "pygments_lexer": "ipython3",
   "version": "3.7.3"
  }
 },
 "nbformat": 4,
 "nbformat_minor": 2
}
