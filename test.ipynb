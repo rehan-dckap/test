import logging
import time
LOGGER = logging.getLogger('__name__')
def request_retry_sync(retries=3, colloff=1):
    retry_on_exceptions = (
        requests.exceptions.ConnectionError,
        requests.exceptions.Timeout,
        requests.exceptions.HTTPError
    )
    def wrap(func):
        @wraps(func)
        def inner (*args, **kwargs):
            for retry_count in range(retries+1):
                response = func(*args, **kwargs)
                try:
                    response.raise_for_status()
                except Exception as err:
                    if not any([err == exc for exc in retry_on_exceptions]):
                        raise
                    if retry_count == retries:
                        # retries exhausted, raise the exception
                        raise
                    time.sleep(colloff)
                    colloff *= 2
                    LOGGER.warning(
                        '{} during {} execution {} of "{}" retries attempted'.format(
                                                err.__class__.__name__,
                                                func.__name__,
                                                retry_count + 1,
                                 )
                    )
                    else:
                        return response
        return inner
    return wrap
